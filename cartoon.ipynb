{
 "cells": [
  {
   "cell_type": "code",
   "execution_count": 34,
   "metadata": {},
   "outputs": [],
   "source": [
    "import cv2\n",
    "import numpy as np\n",
    "\n",
    "img=cv2.imread(\"C:/Users/nishu/Desktop/New folder (2)/modi-ji.jpg\")\n",
    "\n",
    "#edges\n",
    "gray=cv2.cvtColor(img,cv2.COLOR_BGR2GRAY)\n",
    "gray=cv2.medianBlur(gray,5)\n",
    "edges=cv2.adaptiveThreshold(gray, 255,cv2.ADAPTIVE_THRESH_MEAN_C,cv2.THRESH_BINARY,9,9)\n",
    "\n",
    "#colour\n",
    "color=cv2.bilateralFilter(img , 9,25,25)\n",
    "cartoon=cv2.bitwise_and(color,color,mask=edges)\n",
    "#blured_img=cv2.medianBlur(img,5)\n",
    "#edges=cv2.Canny(blured_img,75,150)\n",
    "cv2.imshow(\"Image\",img)\n",
    "cv2.imshow(\"cartoon\",cartoon)\n",
    "#cv2.imshow(\"color\",color)\n",
    "#cv2.imshow(\"Ëdges\",edges)\n",
    "#cv2.imshow(\"blur\",blured_img)\n",
    "cv2.waitKey(0)\n",
    "cv2.destroyAllWindows()"
   ]
  },
  {
   "cell_type": "code",
   "execution_count": null,
   "metadata": {},
   "outputs": [],
   "source": []
  },
  {
   "cell_type": "code",
   "execution_count": null,
   "metadata": {},
   "outputs": [],
   "source": []
  }
 ],
 "metadata": {
  "kernelspec": {
   "display_name": "Python 3",
   "language": "python",
   "name": "python3"
  },
  "language_info": {
   "codemirror_mode": {
    "name": "ipython",
    "version": 3
   },
   "file_extension": ".py",
   "mimetype": "text/x-python",
   "name": "python",
   "nbconvert_exporter": "python",
   "pygments_lexer": "ipython3",
   "version": "3.7.4"
  }
 },
 "nbformat": 4,
 "nbformat_minor": 2
}
